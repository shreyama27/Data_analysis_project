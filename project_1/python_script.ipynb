{
 "cells": [
  {
   "cell_type": "markdown",
   "metadata": {
    "id": "mimc4ie8RtFI"
   },
   "source": [
    "## Phase 1"
   ]
  },
  {
   "cell_type": "markdown",
   "metadata": {
    "id": "2Txdg6-Bg8MI"
   },
   "source": [
    "### Header\n",
    "#### Term Project Name: Tech For the Future"
   ]
  },
  {
   "cell_type": "markdown",
   "metadata": {
    "id": "BZetV3pNTz1Q"
   },
   "source": [
    "### Q Write down the following information: \n",
    "#### 1. Identify problems prevalent in public application domains. The issue(s) you are trying to address: This will be a 100-word abstract in the form of a problem statement.: \n",
    "\n",
    "In 2018 the city of Seattle was given a survey asking them about their household’s access to technology and consists of questions like “What devices do you own?” and “How fast is your internet?”. These questions are important to tech company owners because if they find out that a large majority of people in a certain wealth bracket are missing technology, they could account for that with cheaper prices. This dataset was chosen because it is becoming more and more important to own technology to the point where it’s becoming impossible to overcome the lack of it. From this data, we hope to find out that certain people are at a significant disadvantage when it comes to owning technology and that we could use this information to help them get assistance they need\n"
   ]
  },
  {
   "cell_type": "markdown",
   "metadata": {
    "id": "JTEu1afbcogo"
   },
   "source": [
    "#### 2. Name of the dataset:\r\n",
    "Technology Access and Adoption Survey"
   ]
  },
  {
   "cell_type": "markdown",
   "metadata": {
    "id": "Ns2L_Hb5Xjoj"
   },
   "source": [
    "#### 3. Background:\n",
    "   + Source: Data.gov\n",
    "   + Time Period: 2018\n",
    "   + Scope (if there is please specified): City of Seattle\n",
    "   + Data Unit: Household\n",
    "   + Other:"
   ]
  },
  {
   "cell_type": "markdown",
   "metadata": {
    "id": "wBOk6VCiXy0g"
   },
   "source": [
    "#### 4 Introduction of dataset\n",
    "Answer 2 questions:\n",
    "+ How many columns? Show all the column labels. ((You can use pandas.DataFrame.columns to easily show all the labels of columns.)\n",
    "+ What are they refering to respectively? please write in table form (markdown syntax for drawing tables : [markdown tutorial with examples](https://guides.github.com/features/mastering-markdown/))\n",
    "\n",
    "\n",
    "Dimensions of the dataset: (4316, 479)\n",
    "\n",
    "Markdown table: \n"
   ]
  },
  {
   "cell_type": "markdown",
   "metadata": {
    "id": "NaFI3AWde694"
   },
   "source": [
    "*Column Label* | *Description*\r\n",
    "------------ | -------------\r\n",
    "Q1 | If the Household has access to internet\r\n",
    "Q2 | The type of technology devices at the household\r\n",
    "Q3 | The most used device at the household\r\n",
    "Q4 | The ways of getting internet at the household\r\n",
    "Q5 | The approximate costs of internet services per month for the household\r\n",
    "Q6 | Rating the adequancy of the internet connection and speeds at the household\r\n",
    "Q7 | The fastest download speed of the internet connection in the place you live\r\n",
    "Q8 | One thing to be improved about the internet service in the place you live\r\n",
    "Q9 | Do you subscribe to a contract data plan or pay as you go\r\n",
    "Q10 | The type of technology devices used at the household\r\n",
    "Q11 | The places where you and other members have accessed internet in the past month\r\n",
    "Q12 | Have you heard of or currently use any of the mentioned lower cost internet services\r\n",
    "Q13 | The reasons for not using the internet\r\n",
    "Q14 | The concerns you have when it comes to accessing and using the internet\r\n",
    "Q15 | If you don't have internet at the place you live, please tell us why\r\n",
    "Q16 | The How often does anyone in your household engage in the mentioned online activities\r\n",
    "Q17 | How comfortable are you in performing the mentioned activities online\r\n",
    "Q18 | How much do you rely on others to help you with the skills needed to access and navigate the internet\r\n",
    "Q19 | Please rate how interested you or anyone in your household would be in the mentioned technology training topics\r\n",
    "Q20 | The importance of technology and internet in your daily life\r\n",
    "Q21 | The comfort with the technology and the internet\r\n",
    "Q22 | The impact internet has on you/your family and society as a whole\r\n",
    "Q23 | How often do you visit the mentioned websites\r\n",
    "Q24 | Do you participate in any tyoe of community group\r\n",
    "Q25 | The preferred methods of communication when it comesto receiving information or giving an opinion to a community group or to the city of Seattle\r\n",
    "Q26 | How many adults live in your household, how old are they and their relationship with you\r\n",
    "Q27 | How many children are there where you live in each of the mentioned age and grade groups and where each of the children attend school\r\n",
    "Q28 | Your gender\r\n",
    "Q29 | The approximate total household annual income\r\n",
    "Q30 | The number of years you have lived in seattle\r\n",
    "Q31 | Are you Hispanic/Latino/of spanish origin\r\n",
    "Q32 | Your ethnicity/race\r\n",
    "Q33 | Your housing situation\r\n",
    "Q34 | Type of home you currently live\r\n",
    "Q35 | Your employment type\r\n",
    "Q36 | Languages you speak\r\n",
    "Q37 | If you/ any member in your household have any medical conditions or any disability that makes it difficult to use technology/ internet without any assistance\r\n",
    "Q38 | The last year of schooling you have completed\r\n"
   ]
  },
  {
   "cell_type": "markdown",
   "metadata": {
    "id": "E8g-GdASdPwL"
   },
   "source": [
    "#### 5 Hypothesis and conclusion\n",
    " What hypothesis or conclusion do you want to study from the data?  (Remember this relative to your future phases of task)\n",
    "\n",
    "Hypothesis: We are going to find out that younger wealthier people have access significantly more tech than people who are older and poorer."
   ]
  },
  {
   "cell_type": "markdown",
   "metadata": {
    "id": "OIHvnFo3kNS0"
   },
   "source": [
    "#### 6 Write codes to load the data \n",
    "(recommend: pandas package: 10 mins tutorial: [10 mins tutorial](https://pandas.pydata.org/pandas-docs/stable/user_guide/10min.html#min) )"
   ]
  },
  {
   "cell_type": "code",
   "execution_count": 1,
   "metadata": {
    "id": "K-U6C2CK-KIE"
   },
   "outputs": [],
   "source": [
    "import numpy as np\r\n",
    "import matplotlib.pyplot as plt\r\n",
    "import matplotlib.mlab as mlab\r\n",
    "import matplotlib\r\n",
    "import pandas as pd\r\n",
    "import seaborn as sns"
   ]
  },
  {
   "cell_type": "code",
   "execution_count": 2,
   "metadata": {
    "colab": {
     "base_uri": "https://localhost:8080/",
     "height": 72,
     "resources": {
      "http://localhost:8080/nbextensions/google.colab/files.js": {
       "data": "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",
       "headers": [
        [
         "content-type",
         "application/javascript"
        ]
       ],
       "ok": true,
       "status": 200,
       "status_text": ""
      }
     }
    },
    "id": "BQfk9ByY-KZ_",
    "outputId": "e98d99a7-4ee5-4c71-a001-23f39674d732"
   },
   "outputs": [
    {
     "data": {
      "text/html": [
       "\n",
       "     <input type=\"file\" id=\"files-77f81c75-25d6-4d98-8de5-abc45aa5d963\" name=\"files[]\" multiple disabled\n",
       "        style=\"border:none\" />\n",
       "     <output id=\"result-77f81c75-25d6-4d98-8de5-abc45aa5d963\">\n",
       "      Upload widget is only available when the cell has been executed in the\n",
       "      current browser session. Please rerun this cell to enable.\n",
       "      </output>\n",
       "      <script src=\"/nbextensions/google.colab/files.js\"></script> "
      ],
      "text/plain": [
       "<IPython.core.display.HTML object>"
      ]
     },
     "metadata": {
      "tags": []
     },
     "output_type": "display_data"
    },
    {
     "name": "stdout",
     "output_type": "stream",
     "text": [
      "Saving 587_data_file.csv to 587_data_file.csv\n"
     ]
    }
   ],
   "source": [
    "from google.colab import files\r\n",
    "\r\n",
    "uploaded = files.upload()"
   ]
  },
  {
   "cell_type": "code",
   "execution_count": 3,
   "metadata": {
    "colab": {
     "base_uri": "https://localhost:8080/"
    },
    "id": "ynXbAgQF-WPM",
    "outputId": "e9c7f777-ee3f-4032-9e2a-ba775449bfed"
   },
   "outputs": [
    {
     "name": "stderr",
     "output_type": "stream",
     "text": [
      "/usr/local/lib/python3.7/dist-packages/IPython/core/interactiveshell.py:2718: DtypeWarning: Columns (0,1,2,3,4,5,6,7,8,9,10,11,12,13,14,15,16,17,18,19,20,21,22,23,24,25,26,27,28,29,30,31,32,33,34,35,36,37,38,39,40,41,42,43,44,45,46,47,48,50,51,52,53,54,55,56,57,58,59,60,61,62,63,64,65,66,67,68,69,70,71,72,73,74,75,76,77,78,79,80,81,82,83,84,85,86,87,88,89,90,91,92,93,94,95,96,97,98,99,100,101,102,103,104,105,106,107,108,110,111,112,113,114,115,116,117,118,119,120,121,122,123,124,125,126,127,128,129,130,131,132,133,134,135,136,137,138,139,140,141,142,143,144,145,146,147,148,149,150,151,152,153,154,155,156,157,158,159,160,161,162,163,164,165,166,167,168,169,170,171,172,173,174,175,176,177,178,179,180,181,182,183,184,185,186,187,188,189,190,191,192,193,194,195,196,197,198,199,200,201,202,203,204,205,206,207,208,209,210,211,212,213,214,215,216,218,219,220,221,222,223,224,225,226,227,228,229,230,231,232,233,234,235,236,237,238,239,240,241,242,243,244,245,246,247,248,249,250,251,252,253,254,255,256,257,258,259,260,261,262,263,264,265,266,267,268,269,270,271,272,273,274,275,276,277,278,279,280,281,282,283,284,285,286,287,288,289,290,291,292,293,294,295,296,297,298,299,300,301,302,303,304,305,306,307,308,309,310,311,312,314,315,316,317,318,319,320,321,322,323,324,325,326,327,328,329,330,331,332,333,334,335,336,337,338,339,340,341,342,343,344,345,346,347,348,349,350,351,352,353,354,355,356,357,358,359,360,361,362,363,364,365,366,367,368,369,370,371,372,373,374,375,376,377,378,379,380,381,382,383,384,385,386,387,388,389,390,391,392,393,394,396,398,399,400,401,402,403,404,405,406,407,408,409,411,413,414,415,416,417,418,419,420,421,422,423,424,425,426,427,428,429,430,431,432,433,434,435,436,437,438,439,440,441,442,443,444,445,446,447,448,449,450,451,452,453,454,455,456,457,458,459,460,461,462,463,464,465,466,467,468,469,470,471,472,473,474,475,476,477,478) have mixed types.Specify dtype option on import or set low_memory=False.\n",
      "  interactivity=interactivity, compiler=compiler, result=result)\n",
      "/usr/local/lib/python3.7/dist-packages/IPython/core/interactiveshell.py:2718: DtypeWarning: Columns (105) have mixed types.Specify dtype option on import or set low_memory=False.\n",
      "  interactivity=interactivity, compiler=compiler, result=result)\n"
     ]
    }
   ],
   "source": [
    "dF = pd.read_csv('587_data_file.csv', sep = ',', header=None)\r\n",
    "dF_stats = pd.read_csv('587_data_file.csv', sep = ',')"
   ]
  },
  {
   "cell_type": "code",
   "execution_count": 4,
   "metadata": {
    "colab": {
     "base_uri": "https://localhost:8080/"
    },
    "id": "kFF00iriwWD3",
    "outputId": "90b96076-3352-48ba-871a-362365ac03f5"
   },
   "outputs": [
    {
     "name": "stdout",
     "output_type": "stream",
     "text": [
      "                ID  samplegroup  ...  unknown_service  no_response\n",
      "count  4315.000000  4315.000000  ...      4315.000000  4315.000000\n",
      "mean   2158.000000     1.727694  ...         0.001390     0.008343\n",
      "std    1245.777535     1.181004  ...         0.037268     0.090969\n",
      "min       1.000000     1.000000  ...         0.000000     0.000000\n",
      "25%    1079.500000     1.000000  ...         0.000000     0.000000\n",
      "50%    2158.000000     1.000000  ...         0.000000     0.000000\n",
      "75%    3236.500000     2.000000  ...         0.000000     0.000000\n",
      "max    4315.000000     5.000000  ...         1.000000     1.000000\n",
      "\n",
      "[8 rows x 470 columns]\n"
     ]
    }
   ],
   "source": [
    "print(dF_stats.describe())"
   ]
  },
  {
   "cell_type": "markdown",
   "metadata": {
    "id": "8rkrhSupkNTA"
   },
   "source": [
    "#### 7 IDA (Initial Data Analysis) \n",
    "[reference to do IDA](https://www.sciencedirect.com/science/article/pii/S0022522315017948)  \\\\\n",
    "Please specify what you've done (text and code) for each operation (at least 10 operations). If some steps will produce a picture, please show this picture\n"
   ]
  },
  {
   "cell_type": "markdown",
   "metadata": {
    "id": "74fHNPXOlMZ8"
   },
   "source": [
    "#### Operation 1\n",
    "\n",
    "This operation is used to check and see if we need to remove a lot of data. The histogram shows us where we are missing data\n"
   ]
  },
  {
   "cell_type": "code",
   "execution_count": 5,
   "metadata": {
    "colab": {
     "base_uri": "https://localhost:8080/",
     "height": 426
    },
    "id": "EFC1psPYlmUp",
    "outputId": "b7b91a8f-dcaf-4533-fd10-116875e955db"
   },
   "outputs": [
    {
     "data": {
      "text/plain": [
       "<matplotlib.axes._subplots.AxesSubplot at 0x7fdfb1227f10>"
      ]
     },
     "execution_count": 5,
     "metadata": {
      "tags": []
     },
     "output_type": "execute_result"
    },
    {
     "data": {
      "image/png": "[encoded data removed]",
      "text/plain": [
       "<Figure size 432x288 with 2 Axes>"
      ]
     },
     "metadata": {
      "needs_background": "light",
      "tags": []
     },
     "output_type": "display_data"
    }
   ],
   "source": [
    "# code\r\n",
    "cols = dF_stats.columns[:dF_stats.shape[1]] \r\n",
    "colours = ['#000099', '#ffff00']\r\n",
    "sns.heatmap(dF_stats[cols].isnull(), cmap=sns.color_palette(colours))"
   ]
  },
  {
   "cell_type": "markdown",
   "metadata": {
    "id": "FIKLm6LKp8tv"
   },
   "source": [
    "#### Operation 2\r\n",
    "This operation tells us if we have a lot of numeric data. This operation is important so we can see if we need to process a lot of string data"
   ]
  },
  {
   "cell_type": "code",
   "execution_count": 6,
   "metadata": {
    "colab": {
     "base_uri": "https://localhost:8080/"
    },
    "id": "ZpGNnLOSp9qh",
    "outputId": "678de563-f408-4c24-b724-405c285202f2"
   },
   "outputs": [
    {
     "name": "stdout",
     "output_type": "stream",
     "text": [
      "['ID' 'samplegroup' 'qzip' 'CD' 'l' 'q1' 'q2a_1' 'q2a_2' 'q2a_3' 'q2a_4'\n",
      " 'q2a_5' 'q2a_6' 'q2a_7' 'q2aHaveSum' 'q2bOwnSum' 'q2ba_1' 'q2ba_2'\n",
      " 'q2ba_3' 'q2ba_4' 'q2bb_1' 'q2bb_2' 'q2bb_3' 'q2bb_4' 'q2bc_1' 'q2bc_2'\n",
      " 'q2bc_3' 'q2bc_4' 'q2bd_1' 'q2bd_2' 'q2bd_3' 'q2bd_4' 'q2be_1' 'q2be_2'\n",
      " 'q2be_3' 'q2be_4' 'q2bf_1' 'q2bf_2' 'q2bf_3' 'q2bf_4' 'q3' 'q4_1' 'q4_2'\n",
      " 'q4_3' 'q4_4' 'q4_5' 'q4_6' 'q4_7' 'q4_8' 'q4_9' 'q5aa_1' 'q5ab_1'\n",
      " 'q5ac_1' 'q5ad_1' 'q5ae_1' 'q5aa_2' 'q5aa_3' 'q5aa_4' 'q5ab_2' 'q5ab_3'\n",
      " 'q5ab_4' 'q5ac_2' 'q5ac_3' 'q5ac_4' 'q5ad_2' 'q5ad_3' 'q5ae_2' 'q5ae_3'\n",
      " 'q5ae_4' 'q5_TotSum' 'q5b_IndivSum' 'q5c_BundleSum' 'q5aSum' 'q5bSum'\n",
      " 'q5cSum' 'q5dSum' 'q5eSum' 'q5_TotSumR' 'q5b_IndivSumR' 'q5c_BundleSumR'\n",
      " 'q5aSumR' 'q5bSumR' 'q5cSumR' 'q5dSumR' 'q5eSumR' 'q5ba_1' 'q5bb_1'\n",
      " 'q5bc_1' 'q5bd_1' 'q5be_1' 'q5ca_1' 'q5cb_1' 'q5cc_1' 'q5cd_1' 'q5ce_1'\n",
      " 'q5ba_1R' 'q5bb_1R' 'q5bc_1R' 'q5bd_1R' 'q5be_1R' 'q5ca_1R' 'q5cb_1R'\n",
      " 'q5cc_1R' 'q5cd_1R' 'q5ce_1R' 'q6' 'q7' 'q8' 'q9_1' 'q9_2' 'q9_3' 'q9_4'\n",
      " 'q9_5' 'q10a_1' 'q10a_2' 'q10a_3' 'q10a_4' 'q10a_5' 'q10a_6' 'q10b_1'\n",
      " 'q10b_2' 'q10b_3' 'q10b_4' 'q10b_5' 'q10b_6' 'q10b_7' 'q10c_1' 'q10c_2'\n",
      " 'q10c_3' 'q10c_4' 'q10c_5' 'q10c_6' 'q10c_7' 'Q10d_1' 'Q10d_2' 'Q10d_3'\n",
      " 'Q10d_4' 'Q10d_6' 'q11a_1' 'q11a_2' 'q11a_3' 'q11a_4' 'q11a_5' 'q11a_6'\n",
      " 'q11a_7' 'q11a_8' 'q11a_9' 'q11a_10' 'q11a_11' 'q11b_1' 'q11b_2' 'q11b_3'\n",
      " 'q11b_4' 'q11b_5' 'q11b_6' 'q11b_7' 'q11b_8' 'q11b_9' 'q11b_10' 'q11b_11'\n",
      " 'q11b_12' 'q11c_1' 'q11c_2' 'q11c_3' 'q11c_4' 'q11c_5' 'q11c_6' 'q11c_7'\n",
      " 'q11c_8' 'q11c_9' 'q11c_10' 'q11c_11' 'q11c_12' 'Q11d_1' 'Q11d_2'\n",
      " 'Q11d_3' 'Q11d_4' 'Q11d_5' 'Q11d_6' 'Q11d_7' 'Q11d_8' 'Q11d_9' 'Q11d_10'\n",
      " 'q12a_1' 'q12a_2' 'q12a_3' 'q12b_4' 'q12b_5' 'Q12AWARECOUNT'\n",
      " 'Q12USECOUNT' 'q13_1' 'q13_2' 'q13_3' 'q13_4' 'q13_5' 'q13_6' 'q13_7'\n",
      " 'q13_8' 'q13_9' 'q14_1' 'q14_2' 'q14_3' 'q14_4' 'q14_5' 'q14_6'\n",
      " 'Q14count' 'q15_1' 'q15_2' 'q15_3' 'q15_4' 'q15_5' 'q15_6' 'q15_7'\n",
      " 'q15_8' 'q15_9' 'q16a_1' 'q16a_2' 'q16a_3' 'q16a_4' 'q16a_5' 'q16a_6'\n",
      " 'q16a_7' 'q16a_8' 'q16b_9' 'q16b_10' 'q16b_11' 'q16b_12' 'q16b_13'\n",
      " 'q16b_14' 'q16b_15' 'q16c_16' 'q16c_17' 'q16c_18' 'q16c_19' 'q16c_20'\n",
      " 'q16c_21' 'q16c_22' 'q17ad_1_1' 'q17ad_1_2' 'q17ad_1_3' 'q17ad_1_4'\n",
      " 'q17ad_1_5' 'q17ad_1_6' 'q17ad_2_7' 'q17ad_2_8' 'q17ad_2_9' 'q17ad_2_10'\n",
      " 'q17ad_2_11' 'q17ad_2_12' 'q17bd_1_1' 'q17bd_1_2' 'q17bd_1_3' 'q17bd_1_4'\n",
      " 'q17bd_1_5' 'q17bd_1_6' 'q17bd_2_7' 'q17bd_2_8' 'q17bd_2_9' 'q17bd_2_10'\n",
      " 'q17bd_2_11' 'q17bd_2_12' 'q18' 'q19a_1' 'q19a_2' 'q19a_3' 'q19a_4'\n",
      " 'q19a_5' 'q19b_6' 'q19b_7' 'q19b_8' 'q19b_9' 'q20' 'q21a_1' 'q21a_2'\n",
      " 'q21a_3' 'q21a_4' 'q21a_5' 'q21b_6' 'q21b_7' 'q21b_8' 'q21b_9' 'q21a_1R'\n",
      " 'q21a_2R' 'q21a_3R' 'q21a_4R' 'q21a_5R' 'q21b_6R' 'q21b_7R' 'q21b_8R'\n",
      " 'q21b_9R' 'q22_1' 'q22_2' 'q22_1R' 'q22_2R' 'q23_1' 'q23_2' 'q24' 'q25_1'\n",
      " 'q25_2' 'q25_3' 'q25_4' 'q25_5' 'q25_6' 'q25_7' 'q25_8' 'q25_9' 'q25_10'\n",
      " 'q25_11' 'q25_12' 'q25_13' 'q26a' 'q26b_1' 'q26b_2' 'q26b_3' 'q26b_4'\n",
      " 'q26b_5' 'q26b_6' 'q26b_7' 'q26b_8' 'q26b_9' 'q26b_10' 'q26c_2' 'q26c_3'\n",
      " 'q26c_4' 'q26c_5' 'q26c_6' 'q26c_7' 'q26c_8' 'q26c_9' 'q26c_10' 'Q27a'\n",
      " 'q27a_1' 'q27a_2' 'q27a_3' 'q27a_4' 'q27a_5' 'q27a_6' 'q27ba_1' 'q27ba_2'\n",
      " 'q27ba_3' 'q27ba_4' 'q27ba_5' 'q27bb_1' 'q27bb_2' 'q27bb_3' 'q27bb_4'\n",
      " 'q27bc_1' 'q27bc_2' 'q27bc_3' 'q27bc_4' 'q27bd_1' 'q27bd_2' 'q27bd_3'\n",
      " 'q27bd_4' 'q27be_1' 'q27be_2' 'q27be_3' 'q27be_4' 'q27bf_1' 'q27bf_2'\n",
      " 'q27bf_3' 'q27bf_4' 'Q27b_SPS' 'Q27b_OthPub' 'Q27b_Priv' 'Q27b_HmSch'\n",
      " 'SPSonly' 'nonSPSonly' 'BothSchl' 'Gender' 'q28_1' 'q28_2' 'q28_3'\n",
      " 'q28_4' 'HHSize' 'q29' 'POV' 'POV135' 'POV400' 'q30' 'q30R' 'q31'\n",
      " 'ethnicity' 'q32_1' 'q32_2' 'q32_3' 'q32_4' 'q32_5' 'q32_6' 'q32_7'\n",
      " 'q32_8' 'q33' 'q34a' 'q34b' 'q35_1' 'q35_2' 'q35_3' 'q35_4' 'q35_5'\n",
      " 'q35_6' 'q35_7' 'q35_8' 'q35_9' 'q35_10' 'q36' 'q37_1' 'q37_2' 'q37_3'\n",
      " 'q37_4' 'q37_5' 'q37_6' 'q38' 'CensusTract' 'q6R' 'q20R' 'Age_range2'\n",
      " 'Age_range3' 'Age2_range2' 'Age2_range3' 'Age3_range2' 'Age3_range3'\n",
      " 'Age4_range2' 'Age4_range3' 'Age5_range2' 'Age5_range3' 'Age6_range2'\n",
      " 'Age6_range3' 'Age_range' 'Age2_range' 'Age3_range' 'Age4_range'\n",
      " 'Age5_range' 'Age6_range' 'HHage1' 'HHage2' 'HHage3' 'HHage4'\n",
      " 'Age_range5' 'EDUC' 'INCOME' 'SHA' 'KIDS' 'Weight_HH' 'Weight_indiv'\n",
      " 'centurylinkinternet' 'waveinternet' 'comcastinternet' 'cellularinternet'\n",
      " 'otherinternet' 'Segment' 'internetincomepercent100'\n",
      " 'internetincomepercentcat' 'Q5_indiv' 'Q5_bundle' 'Q5_free'\n",
      " 'q16summarygroups' 'q17countR' 'any_broadband_subscription'\n",
      " 'fixed_broadband_subscription' 'both_fixed_broadband_and_cell_data_plan'\n",
      " 'only_fixed_broadband_subscription' 'have_data_cell_plan'\n",
      " 'only_data_cell_plan' 'free_access_net'\n",
      " 'free_access_and_paid_subscription' 'other_access'\n",
      " 'without_internet_subscription' 'free_access_and_no_paid_sub'\n",
      " 'no_internet_access' 'unknown_service' 'no_response']\n"
     ]
    }
   ],
   "source": [
    "df_numeric = dF_stats.select_dtypes(include=[np.number])\r\n",
    "numeric_cols = df_numeric.columns.values\r\n",
    "print(numeric_cols)"
   ]
  },
  {
   "cell_type": "markdown",
   "metadata": {
    "id": "WnkyZec3qAZy"
   },
   "source": [
    "#### Operation 3\r\n",
    "This operation checks to see if we have non-numeric data. This is important because if there is only a few columns, then we can remove them"
   ]
  },
  {
   "cell_type": "code",
   "execution_count": 7,
   "metadata": {
    "colab": {
     "base_uri": "https://localhost:8080/"
    },
    "id": "w-f3WuTGqAx4",
    "outputId": "8244c9bb-19ee-433f-b3f7-257790873297"
   },
   "outputs": [
    {
     "name": "stdout",
     "output_type": "stream",
     "text": [
      "['q4_7_other' 'q5_other' 'q8_5_other' 'q15_8_other' 'q25_97_other'\n",
      " 'q32_7_other' 'q33_6_other' 'q35_10_other' 'q36_10_other']\n"
     ]
    }
   ],
   "source": [
    "df_non_numeric = dF_stats.select_dtypes(exclude=[np.number])\r\n",
    "non_numeric_cols = df_non_numeric.columns.values\r\n",
    "print(non_numeric_cols)"
   ]
  },
  {
   "cell_type": "markdown",
   "metadata": {
    "id": "1r5OAzRqqMuU"
   },
   "source": [
    "#### Operation 4\r\n",
    "This operation is used to check one of the columns that we though might have issues. If somebody messed up which group they are in there will be an outlier and we can remove that persons data."
   ]
  },
  {
   "cell_type": "code",
   "execution_count": 8,
   "metadata": {
    "colab": {
     "base_uri": "https://localhost:8080/",
     "height": 282
    },
    "id": "XRPWg5cvqM_7",
    "outputId": "a5777e77-c78e-4900-f9fd-6199f6df9ae4"
   },
   "outputs": [
    {
     "data": {
      "text/plain": [
       "<matplotlib.axes._subplots.AxesSubplot at 0x7fdfb112b710>"
      ]
     },
     "execution_count": 8,
     "metadata": {
      "tags": []
     },
     "output_type": "execute_result"
    },
    {
     "data": {
      "image/png": "[encoded data removed]",
      "text/plain": [
       "<Figure size 432x288 with 1 Axes>"
      ]
     },
     "metadata": {
      "needs_background": "light",
      "tags": []
     },
     "output_type": "display_data"
    }
   ],
   "source": [
    "dF_stats.boxplot(column=['samplegroup'])"
   ]
  },
  {
   "cell_type": "code",
   "execution_count": 9,
   "metadata": {
    "colab": {
     "base_uri": "https://localhost:8080/"
    },
    "id": "g4360X8iqPdq",
    "outputId": "12511800-4e0c-4ad8-f5a1-3ea35fc80bbe"
   },
   "outputs": [
    {
     "data": {
      "text/plain": [
       "count    4315.000000\n",
       "mean        1.727694\n",
       "std         1.181004\n",
       "min         1.000000\n",
       "25%         1.000000\n",
       "50%         1.000000\n",
       "75%         2.000000\n",
       "max         5.000000\n",
       "Name: samplegroup, dtype: float64"
      ]
     },
     "execution_count": 9,
     "metadata": {
      "tags": []
     },
     "output_type": "execute_result"
    }
   ],
   "source": [
    "dF_stats['samplegroup'].describe()"
   ]
  },
  {
   "cell_type": "code",
   "execution_count": 10,
   "metadata": {
    "colab": {
     "base_uri": "https://localhost:8080/",
     "height": 279
    },
    "id": "qgQ6l-yeqQzg",
    "outputId": "78405f0d-458e-4935-8eca-f1e3fc2ed2b5"
   },
   "outputs": [
    {
     "data": {
      "text/plain": [
       "<matplotlib.axes._subplots.AxesSubplot at 0x7fdfb10dc8d0>"
      ]
     },
     "execution_count": 10,
     "metadata": {
      "tags": []
     },
     "output_type": "execute_result"
    },
    {
     "data": {
      "image/png": "[encoded data removed]",
      "text/plain": [
       "<Figure size 432x288 with 1 Axes>"
      ]
     },
     "metadata": {
      "needs_background": "light",
      "tags": []
     },
     "output_type": "display_data"
    }
   ],
   "source": [
    "dF_stats['samplegroup'].value_counts().plot.bar()"
   ]
  },
  {
   "cell_type": "code",
   "execution_count": 11,
   "metadata": {
    "colab": {
     "base_uri": "https://localhost:8080/",
     "height": 282
    },
    "id": "y7aFeumzqSEy",
    "outputId": "dc2c5c83-d6f8-4dcd-8c0d-414d602fa5bd"
   },
   "outputs": [
    {
     "data": {
      "text/plain": [
       "<matplotlib.axes._subplots.AxesSubplot at 0x7fdfa83e6550>"
      ]
     },
     "execution_count": 11,
     "metadata": {
      "tags": []
     },
     "output_type": "execute_result"
    },
    {
     "data": {
      "image/png": "[encoded data removed]",
      "text/plain": [
       "<Figure size 432x288 with 1 Axes>"
      ]
     },
     "metadata": {
      "needs_background": "light",
      "tags": []
     },
     "output_type": "display_data"
    }
   ],
   "source": [
    "dF_stats['samplegroup'].hist(bins=100)"
   ]
  },
  {
   "cell_type": "markdown",
   "metadata": {
    "id": "QSbK6CTRw7Lb"
   },
   "source": [
    "This operation tells us that samplegroup 5 is very small relative to the dataset and should be removed"
   ]
  },
  {
   "cell_type": "markdown",
   "metadata": {
    "id": "RbN94avGqWGX"
   },
   "source": [
    "#### Operation 5"
   ]
  },
  {
   "cell_type": "code",
   "execution_count": 12,
   "metadata": {
    "colab": {
     "base_uri": "https://localhost:8080/",
     "height": 282
    },
    "id": "jIFo0U4QqX8K",
    "outputId": "74b562cb-8d20-44be-f117-62777b0fc6b9"
   },
   "outputs": [
    {
     "data": {
      "text/plain": [
       "<matplotlib.axes._subplots.AxesSubplot at 0x7fdfa8297150>"
      ]
     },
     "execution_count": 12,
     "metadata": {
      "tags": []
     },
     "output_type": "execute_result"
    },
    {
     "data": {
      "image/png": "[encoded data removed]",
      "text/plain": [
       "<Figure size 432x288 with 1 Axes>"
      ]
     },
     "metadata": {
      "needs_background": "light",
      "tags": []
     },
     "output_type": "display_data"
    }
   ],
   "source": [
    "dF_stats['HHSize'].describe()\r\n",
    "dF_stats['HHSize'].hist(bins=100)\r\n",
    "dF_stats.boxplot(column=['HHSize'])"
   ]
  },
  {
   "cell_type": "markdown",
   "metadata": {
    "id": "yf0yXdGbwG6g"
   },
   "source": [
    "#### Operation 6\r\n",
    "This operation is used to check and see if we have any ethnic outliers in the dataset."
   ]
  },
  {
   "cell_type": "code",
   "execution_count": 13,
   "metadata": {
    "colab": {
     "base_uri": "https://localhost:8080/",
     "height": 282
    },
    "id": "4lmipRASqYN5",
    "outputId": "3a60589e-f566-4c94-b540-96352efb64f1"
   },
   "outputs": [
    {
     "data": {
      "text/plain": [
       "<matplotlib.axes._subplots.AxesSubplot at 0x7fdfa80f4a90>"
      ]
     },
     "execution_count": 13,
     "metadata": {
      "tags": []
     },
     "output_type": "execute_result"
    },
    {
     "data": {
      "image/png": "[encoded data removed]",
      "text/plain": [
       "<Figure size 432x288 with 1 Axes>"
      ]
     },
     "metadata": {
      "needs_background": "light",
      "tags": []
     },
     "output_type": "display_data"
    }
   ],
   "source": [
    "dF_stats['ethnicity'].describe()\r\n",
    "dF_stats['ethnicity'].hist(bins=100)\r\n",
    "dF_stats.boxplot(column=['ethnicity'])"
   ]
  },
  {
   "cell_type": "markdown",
   "metadata": {
    "id": "0VUxLvaod4Ez"
   },
   "source": [
    "We felt is was best to leave these ethnic outliers in the data because we are trying to find people who took the survey who are technologically marginalized, and removing these outliers might take away their representation."
   ]
  },
  {
   "cell_type": "markdown",
   "metadata": {
    "id": "wlxpktE5qdSi"
   },
   "source": [
    "#### Operation 7\r\n",
    "This operation is checking to see if there is outliers in the 'gender' column."
   ]
  },
  {
   "cell_type": "code",
   "execution_count": 14,
   "metadata": {
    "colab": {
     "base_uri": "https://localhost:8080/",
     "height": 418
    },
    "id": "ldVxjUS5qe05",
    "outputId": "4c6a7bf0-ad18-4201-eec3-bb4dce055c3a"
   },
   "outputs": [
    {
     "data": {
      "text/plain": [
       "count    4315.000000\n",
       "mean        1.618772\n",
       "std         0.736787\n",
       "min         0.000000\n",
       "25%         1.000000\n",
       "50%         2.000000\n",
       "75%         2.000000\n",
       "max         4.000000\n",
       "Name: Gender, dtype: float64"
      ]
     },
     "execution_count": 14,
     "metadata": {
      "tags": []
     },
     "output_type": "execute_result"
    },
    {
     "data": {
      "image/png": "[encoded data removed]",
      "text/plain": [
       "<Figure size 432x288 with 1 Axes>"
      ]
     },
     "metadata": {
      "needs_background": "light",
      "tags": []
     },
     "output_type": "display_data"
    }
   ],
   "source": [
    "dF_stats.boxplot(column=['Gender'])\r\n",
    "dF_stats['Gender'].describe()"
   ]
  },
  {
   "cell_type": "markdown",
   "metadata": {
    "id": "mvRSCTp4vvYS"
   },
   "source": [
    "While there is an outlier in one of the genders, we think it is important that all gender are represented in the dataset, even though they make up a small portion of the dataset. "
   ]
  },
  {
   "cell_type": "markdown",
   "metadata": {
    "id": "NOTlwn_Blsu9"
   },
   "source": [
    "#### Operation 8\n",
    "This operation checks and removes any duplicate rows in our dataset. This is useful because there might have been an error in the data gathering and recording phase that could end up skewing our results. It does this by checking if there are duplicate IDs in the dataset.\n",
    "\n",
    "Warning: This takes a few mins to run\n"
   ]
  },
  {
   "cell_type": "code",
   "execution_count": 15,
   "metadata": {
    "id": "wsbYD7wFlo3a"
   },
   "outputs": [],
   "source": [
    "# code\r\n",
    "rowsToRemove = []\r\n",
    "for x in range(len(dF[0])):\r\n",
    "  first = dF[0][x]\r\n",
    "  for z in range(len(dF[0])):\r\n",
    "    second = dF[0][z]\r\n",
    "    \r\n",
    "    if (x != z) and (first == second):\r\n",
    "      \r\n",
    "      rowsToRemove.append(x)\r\n",
    "      \r\n",
    "\r\n",
    "dF = dF.drop(rowsToRemove, axis=0)"
   ]
  },
  {
   "cell_type": "markdown",
   "metadata": {
    "id": "BV4BfFFYl6xc"
   },
   "source": [
    "#### Operation 9\r\n",
    "This operation removes columns that the majority of people did not respond to. We did mostly empty columns in our dataset because they could end up skewing the data. If a column is missing 49 % of data, it is removed"
   ]
  },
  {
   "cell_type": "code",
   "execution_count": 16,
   "metadata": {
    "id": "xjTvGzqDlpfl"
   },
   "outputs": [],
   "source": [
    "# code\r\n",
    "# Remove columns that the majority did not respond to\r\n",
    "colsToRemove = []\r\n",
    "for col in dF.columns:\r\n",
    "    \r\n",
    "    pct_missing = np.mean(dF[col].isnull())\r\n",
    "    \r\n",
    "    if (pct_missing < .49):\r\n",
    "      if (pct_missing > 0):\r\n",
    "        colsToRemove.append(col)\r\n",
    "        \r\n",
    "dF = dF.drop(colsToRemove, axis = 1)"
   ]
  },
  {
   "cell_type": "markdown",
   "metadata": {
    "id": "0LTyBJr_l9Db"
   },
   "source": [
    "#### Operation 10\r\n",
    "This operation removes all columns that are completely empty. This is important to reducing the amount of columns we had in our dataset, which was one of the big goals in our cleaning."
   ]
  },
  {
   "cell_type": "code",
   "execution_count": 17,
   "metadata": {
    "id": "d0RLxNSUlqAq"
   },
   "outputs": [],
   "source": [
    "# code\r\n",
    "dataFile = dF.to_numpy()\r\n",
    "\r\n",
    "\r\n",
    "cols = []\r\n",
    "for x in range(dataFile.shape[1]):\r\n",
    "  # nan values cannot be equal to each other\r\n",
    "  # if all of the values in a column are nan\r\n",
    "  # then remove that column\r\n",
    "  if (np.all(dataFile[:,x]) != np.all(dataFile[:,x])):\r\n",
    "    cols.append(x)\r\n",
    "\r\n",
    "\r\n",
    "dataFile = np.delete(dataFile, cols, axis=1)"
   ]
  },
  {
   "cell_type": "markdown",
   "metadata": {
    "id": "oPZfF2lyl-Y6"
   },
   "source": [
    "#### Operation 11\r\n",
    "This operation removes the top row of our dataset. This is because the top row is a label row that is helpful for humans when observing the data in an excel file, but not helpful for the algorithms we will be using on the dataset."
   ]
  },
  {
   "cell_type": "code",
   "execution_count": 18,
   "metadata": {
    "id": "3NDFA-u0lqdJ"
   },
   "outputs": [],
   "source": [
    "# code\r\n",
    "labelList = dataFile[0]\r\n",
    "dataFile = np.delete(dataFile, 0, axis=0)\r\n"
   ]
  },
  {
   "cell_type": "markdown",
   "metadata": {
    "id": "QtnfPwJ7x3Yw"
   },
   "source": [
    "#### Operation 12\r\n",
    "This operation is removing the 'samplegroup' outliers that were found in operation 3"
   ]
  },
  {
   "cell_type": "code",
   "execution_count": 19,
   "metadata": {
    "id": "KCvymMC9x3vc"
   },
   "outputs": [],
   "source": [
    "rowsToRemove = []\r\n",
    "for x in range(dataFile.shape[0]):\r\n",
    "    if(dataFile[x][1] == '5'):\r\n",
    "        rowsToRemove.append(x)\r\n",
    "\r\n",
    "\r\n",
    "\r\n",
    "dataFile = np.delete(dataFile, rowsToRemove, axis=0)\r\n",
    "\r\n"
   ]
  },
  {
   "cell_type": "markdown",
   "metadata": {
    "id": "rUpT52O3mAAg"
   },
   "source": [
    "#### Operation 13/14\r\n",
    "Operation 6 is removing the columns that contain string values. We did not want string text in our data and they were all in the same columns so they were easy to remove.\r\n",
    "\r\n",
    "Operation 7 is turning all of the numerical values which were of type string into type float. This will be important for when we pass the dataset into algorithms later on"
   ]
  },
  {
   "cell_type": "code",
   "execution_count": 20,
   "metadata": {
    "id": "tU9jqbM13BcO"
   },
   "outputs": [],
   "source": [
    "columnsToRemove = []\r\n",
    "\r\n",
    "output = dataFile\r\n",
    "for x in range(output.shape[1]):\r\n",
    "  for z in range(output.shape[0]):\r\n",
    "\r\n",
    "    if not(isinstance(output[z][x], list)):\r\n",
    "      if (type(output[z][x]) == str):\r\n",
    "\r\n",
    "        try:\r\n",
    "         \r\n",
    "          output[z][x] = float(output[z][x])\r\n",
    "        except:\r\n",
    "          \r\n",
    "          ## save the columns that contain string text for removal later\r\n",
    "          if (len(columnsToRemove) != 0):\r\n",
    "            if (columnsToRemove[len(columnsToRemove)-1] != x):\r\n",
    "              columnsToRemove.append(x)\r\n",
    "              print(output[0][x])\r\n",
    "              \r\n",
    "              \r\n",
    "          else:\r\n",
    "            columnsToRemove.append(x)\r\n",
    "            print(output[0][x])\r\n",
    "      else:\r\n",
    "\r\n",
    "        if (type(output[z][x] == int)):\r\n",
    "          output[z][x] = float(output[z][x])\r\n",
    "            \r\n",
    "\r\n",
    "\r\n",
    "for x in columnsToRemove:\r\n",
    "  output = np.delete(output, x, axis=1)"
   ]
  },
  {
   "cell_type": "markdown",
   "metadata": {
    "id": "ymVN7g1fmCjL"
   },
   "source": [
    "#### Operation 15\r\n",
    "This operation is filling in all 'Nan' values with the mean from the rest of the column"
   ]
  },
  {
   "cell_type": "code",
   "execution_count": 21,
   "metadata": {
    "id": "GuhTyN9plr21"
   },
   "outputs": [],
   "source": [
    "# code\r\n",
    "mean = np.nanmean(dataFile, axis=0)\r\n",
    "\r\n",
    "count= 0 \r\n",
    "for z in range(dataFile.shape[1]):\r\n",
    "  count = count + 1\r\n",
    "  col_mean = mean[z]\r\n",
    "  \r\n",
    "  for x in range(dataFile.shape[0]):\r\n",
    "    currentVal = dataFile[x][z]\r\n",
    "    \r\n",
    "    if (currentVal != currentVal):\r\n",
    "      dataFile[x][z] = col_mean"
   ]
  },
  {
   "cell_type": "markdown",
   "metadata": {
    "id": "NcErxlQ52rJr"
   },
   "source": [
    "#### Operation 16\r\n",
    "This operation removes the columns that all have the same data. This data has nothing more to offer the dataset so it should be removed"
   ]
  },
  {
   "cell_type": "code",
   "execution_count": 22,
   "metadata": {
    "id": "p7fPF7DW2rnX"
   },
   "outputs": [],
   "source": [
    "colsToRemove = []\r\n",
    "for x in range(dataFile.shape[1]):\r\n",
    "  tst = dataFile[:,x]\r\n",
    "  \r\n",
    "  result = np.all(tst ==  dataFile[0][x])\r\n",
    "  if (result):\r\n",
    "    colsToRemove.append(x)\r\n",
    "  \r\n",
    "\r\n",
    "\r\n",
    "dataFile = np.delete(dataFile, colsToRemove, axis=1)"
   ]
  },
  {
   "cell_type": "markdown",
   "metadata": {
    "id": "RBHjlclwmFlS"
   },
   "source": [
    "#### Operation 17\r\n",
    "\r\n",
    "The main issue of this dataset was the fact that each question was split into multiple parts(q1_1, q2_2, q3_3...) which makes the amount of columns way too high. This operation compresses all of those columns into a list which is stored in one column."
   ]
  },
  {
   "cell_type": "code",
   "execution_count": 23,
   "metadata": {
    "id": "YB_6DHBW3IXS"
   },
   "outputs": [],
   "source": [
    "def differentByMoreThanOne(value1, value2):\r\n",
    "\r\n",
    "  incorrect = 0\r\n",
    "  if(len(value1) != len(value2)):\r\n",
    "    return True\r\n",
    "\r\n",
    "  for x in range(len(value1)):\r\n",
    "    if (value1[x] != value2[x]):\r\n",
    "      incorrect = incorrect + 1\r\n",
    "      if (incorrect > 1):\r\n",
    "        return True\r\n",
    "\r\n",
    "  return False\r\n",
    "\r\n",
    "\r\n",
    "# code\r\n",
    "# compress each question into one column \r\n",
    "# Instead of a value, it will be list of the answers\r\n",
    "\r\n",
    "# [q1,q1_1,q1_q2]\r\n",
    "# [1, 1, 3,]\r\n",
    "\r\n",
    "baseline = labelList\r\n",
    "\r\n",
    "value = []\r\n",
    "\r\n",
    "# compare current to the next value\r\n",
    "# If they are the same, go to next-> next\r\n",
    "# compare next->next to original\r\n",
    "# if still similar repeat\r\n",
    "# Once you reach a difference, set current to the differnt one and loop\r\n",
    "\r\n",
    "next = 1\r\n",
    "current = 0\r\n",
    "combo = False\r\n",
    "\r\n",
    "row_size = 4288\r\n",
    "\r\n",
    "#this is hardcoded so switch later as needed\r\n",
    "output = np.empty((row_size,1), dtype=object)\r\n",
    "\r\n",
    "\r\n",
    "## Todo\r\n",
    "## Currently only organizes the ID row\r\n",
    "## Make it so it compresses the entire datafile\r\n",
    "while (next != len(baseline)):\r\n",
    "  bool_val = differentByMoreThanOne(baseline[current], baseline[next])\r\n",
    "\r\n",
    "  if bool_val:\r\n",
    "    if combo:\r\n",
    "      newCol = np.empty((row_size,), dtype=object)\r\n",
    "      vals = []\r\n",
    "\r\n",
    "      for z in range(0,row_size):\r\n",
    "\r\n",
    "        for x in range(current, next):\r\n",
    "          vals.append(dataFile[z][x])\r\n",
    "\r\n",
    "        newCol[z] = vals\r\n",
    "        vals = []\r\n",
    "  \r\n",
    "      newCol = np.reshape(newCol, (newCol.shape[0],1))\r\n",
    "      output = np.append(output, newCol, axis=1)\r\n",
    "      \r\n",
    "      \r\n",
    "          \r\n",
    "      \r\n",
    "    else:\r\n",
    "      ## Might have to make these values into a list\r\n",
    "        \r\n",
    "      temp = dataFile[:, current]\r\n",
    "      temp = np.reshape(temp, (temp.shape[0], 1))\r\n",
    "      output = np.append(output, temp, axis=1)\r\n",
    "\r\n",
    "    current = next\r\n",
    "    next = current + 1 \r\n",
    "    combo = False\r\n",
    "\r\n",
    "  else:\r\n",
    "    next = next + 1\r\n",
    "    combo = True\r\n",
    "\r\n",
    "\r\n",
    "## For some reason there was an extra row of 'NONE' in the front??\r\n",
    "output = np.delete(output,0, axis =1)\r\n"
   ]
  },
  {
   "cell_type": "markdown",
   "metadata": {
    "id": "A750Fmr5smLd"
   },
   "source": [
    "#### Output to csv file"
   ]
  },
  {
   "cell_type": "code",
   "execution_count": 24,
   "metadata": {
    "id": "j5nUtRiCsmfw"
   },
   "outputs": [],
   "source": [
    "np.savetxt('cleaned_data.csv', output, delimiter=',', fmt='%s')"
   ]
  }
 ],
 "metadata": {
  "colab": {
   "collapsed_sections": [],
   "name": "Project_1_Handout.ipynb",
   "provenance": [],
   "toc_visible": true
  },
  "kernelspec": {
   "display_name": "Python 3 (ipykernel)",
   "language": "python",
   "name": "python3"
  },
  "language_info": {
   "codemirror_mode": {
    "name": "ipython",
    "version": 3
   },
   "file_extension": ".py",
   "mimetype": "text/x-python",
   "name": "python",
   "nbconvert_exporter": "python",
   "pygments_lexer": "ipython3",
   "version": "3.12.4"
  }
 },
 "nbformat": 4,
 "nbformat_minor": 4
}
